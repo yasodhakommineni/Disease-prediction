{
 "cells": [
  {
   "cell_type": "markdown",
   "id": "95edcc01-41dd-494c-b0ae-8d34f8891e26",
   "metadata": {},
   "source": [
    "## Importing the dataset and libraries"
   ]
  },
  {
   "cell_type": "code",
   "execution_count": 1,
   "id": "cd488cd3-2a0a-4880-9a8a-f1f9ecfdb0f7",
   "metadata": {},
   "outputs": [],
   "source": [
    "import pandas as pd\n",
    "import numpy as np\n",
    "import seaborn as sns\n",
    "from sklearn.model_selection import train_test_split\n",
    "from sklearn.compose import make_column_transformer\n",
    "from sklearn.preprocessing import StandardScaler, OneHotEncoder, LabelEncoder\n",
    "from sklearn.compose import make_column_selector"
   ]
  },
  {
   "cell_type": "code",
   "execution_count": 2,
   "id": "ccaa1051-3901-4474-91f0-dc08b0484da9",
   "metadata": {},
   "outputs": [],
   "source": [
    "df = pd.read_csv('heart_attack_prediction_dataset.csv')"
   ]
  },
  {
   "cell_type": "code",
   "execution_count": 3,
   "id": "5d6d4fae-c006-4c71-8782-2e28c126f810",
   "metadata": {},
   "outputs": [
    {
     "data": {
      "text/html": [
       "<div>\n",
       "<style scoped>\n",
       "    .dataframe tbody tr th:only-of-type {\n",
       "        vertical-align: middle;\n",
       "    }\n",
       "\n",
       "    .dataframe tbody tr th {\n",
       "        vertical-align: top;\n",
       "    }\n",
       "\n",
       "    .dataframe thead th {\n",
       "        text-align: right;\n",
       "    }\n",
       "</style>\n",
       "<table border=\"1\" class=\"dataframe\">\n",
       "  <thead>\n",
       "    <tr style=\"text-align: right;\">\n",
       "      <th></th>\n",
       "      <th>Patient ID</th>\n",
       "      <th>Age</th>\n",
       "      <th>Sex</th>\n",
       "      <th>Cholesterol</th>\n",
       "      <th>Blood Pressure</th>\n",
       "      <th>Heart Rate</th>\n",
       "      <th>Diabetes</th>\n",
       "      <th>Family History</th>\n",
       "      <th>Smoking</th>\n",
       "      <th>Obesity</th>\n",
       "      <th>...</th>\n",
       "      <th>Sedentary Hours Per Day</th>\n",
       "      <th>Income</th>\n",
       "      <th>BMI</th>\n",
       "      <th>Triglycerides</th>\n",
       "      <th>Physical Activity Days Per Week</th>\n",
       "      <th>Sleep Hours Per Day</th>\n",
       "      <th>Country</th>\n",
       "      <th>Continent</th>\n",
       "      <th>Hemisphere</th>\n",
       "      <th>Heart Attack Risk</th>\n",
       "    </tr>\n",
       "  </thead>\n",
       "  <tbody>\n",
       "    <tr>\n",
       "      <th>0</th>\n",
       "      <td>BMW7812</td>\n",
       "      <td>67</td>\n",
       "      <td>Male</td>\n",
       "      <td>208</td>\n",
       "      <td>158/88</td>\n",
       "      <td>72</td>\n",
       "      <td>0</td>\n",
       "      <td>0</td>\n",
       "      <td>1</td>\n",
       "      <td>0</td>\n",
       "      <td>...</td>\n",
       "      <td>6.615001</td>\n",
       "      <td>261404</td>\n",
       "      <td>31.251233</td>\n",
       "      <td>286</td>\n",
       "      <td>0</td>\n",
       "      <td>6</td>\n",
       "      <td>Argentina</td>\n",
       "      <td>South America</td>\n",
       "      <td>Southern Hemisphere</td>\n",
       "      <td>0</td>\n",
       "    </tr>\n",
       "    <tr>\n",
       "      <th>1</th>\n",
       "      <td>CZE1114</td>\n",
       "      <td>21</td>\n",
       "      <td>Male</td>\n",
       "      <td>389</td>\n",
       "      <td>165/93</td>\n",
       "      <td>98</td>\n",
       "      <td>1</td>\n",
       "      <td>1</td>\n",
       "      <td>1</td>\n",
       "      <td>1</td>\n",
       "      <td>...</td>\n",
       "      <td>4.963459</td>\n",
       "      <td>285768</td>\n",
       "      <td>27.194973</td>\n",
       "      <td>235</td>\n",
       "      <td>1</td>\n",
       "      <td>7</td>\n",
       "      <td>Canada</td>\n",
       "      <td>North America</td>\n",
       "      <td>Northern Hemisphere</td>\n",
       "      <td>0</td>\n",
       "    </tr>\n",
       "    <tr>\n",
       "      <th>2</th>\n",
       "      <td>BNI9906</td>\n",
       "      <td>21</td>\n",
       "      <td>Female</td>\n",
       "      <td>324</td>\n",
       "      <td>174/99</td>\n",
       "      <td>72</td>\n",
       "      <td>1</td>\n",
       "      <td>0</td>\n",
       "      <td>0</td>\n",
       "      <td>0</td>\n",
       "      <td>...</td>\n",
       "      <td>9.463426</td>\n",
       "      <td>235282</td>\n",
       "      <td>28.176571</td>\n",
       "      <td>587</td>\n",
       "      <td>4</td>\n",
       "      <td>4</td>\n",
       "      <td>France</td>\n",
       "      <td>Europe</td>\n",
       "      <td>Northern Hemisphere</td>\n",
       "      <td>0</td>\n",
       "    </tr>\n",
       "    <tr>\n",
       "      <th>3</th>\n",
       "      <td>JLN3497</td>\n",
       "      <td>84</td>\n",
       "      <td>Male</td>\n",
       "      <td>383</td>\n",
       "      <td>163/100</td>\n",
       "      <td>73</td>\n",
       "      <td>1</td>\n",
       "      <td>1</td>\n",
       "      <td>1</td>\n",
       "      <td>0</td>\n",
       "      <td>...</td>\n",
       "      <td>7.648981</td>\n",
       "      <td>125640</td>\n",
       "      <td>36.464704</td>\n",
       "      <td>378</td>\n",
       "      <td>3</td>\n",
       "      <td>4</td>\n",
       "      <td>Canada</td>\n",
       "      <td>North America</td>\n",
       "      <td>Northern Hemisphere</td>\n",
       "      <td>0</td>\n",
       "    </tr>\n",
       "    <tr>\n",
       "      <th>4</th>\n",
       "      <td>GFO8847</td>\n",
       "      <td>66</td>\n",
       "      <td>Male</td>\n",
       "      <td>318</td>\n",
       "      <td>91/88</td>\n",
       "      <td>93</td>\n",
       "      <td>1</td>\n",
       "      <td>1</td>\n",
       "      <td>1</td>\n",
       "      <td>1</td>\n",
       "      <td>...</td>\n",
       "      <td>1.514821</td>\n",
       "      <td>160555</td>\n",
       "      <td>21.809144</td>\n",
       "      <td>231</td>\n",
       "      <td>1</td>\n",
       "      <td>5</td>\n",
       "      <td>Thailand</td>\n",
       "      <td>Asia</td>\n",
       "      <td>Northern Hemisphere</td>\n",
       "      <td>0</td>\n",
       "    </tr>\n",
       "    <tr>\n",
       "      <th>...</th>\n",
       "      <td>...</td>\n",
       "      <td>...</td>\n",
       "      <td>...</td>\n",
       "      <td>...</td>\n",
       "      <td>...</td>\n",
       "      <td>...</td>\n",
       "      <td>...</td>\n",
       "      <td>...</td>\n",
       "      <td>...</td>\n",
       "      <td>...</td>\n",
       "      <td>...</td>\n",
       "      <td>...</td>\n",
       "      <td>...</td>\n",
       "      <td>...</td>\n",
       "      <td>...</td>\n",
       "      <td>...</td>\n",
       "      <td>...</td>\n",
       "      <td>...</td>\n",
       "      <td>...</td>\n",
       "      <td>...</td>\n",
       "      <td>...</td>\n",
       "    </tr>\n",
       "    <tr>\n",
       "      <th>8758</th>\n",
       "      <td>MSV9918</td>\n",
       "      <td>60</td>\n",
       "      <td>Male</td>\n",
       "      <td>121</td>\n",
       "      <td>94/76</td>\n",
       "      <td>61</td>\n",
       "      <td>1</td>\n",
       "      <td>1</td>\n",
       "      <td>1</td>\n",
       "      <td>0</td>\n",
       "      <td>...</td>\n",
       "      <td>10.806373</td>\n",
       "      <td>235420</td>\n",
       "      <td>19.655895</td>\n",
       "      <td>67</td>\n",
       "      <td>7</td>\n",
       "      <td>7</td>\n",
       "      <td>Thailand</td>\n",
       "      <td>Asia</td>\n",
       "      <td>Northern Hemisphere</td>\n",
       "      <td>0</td>\n",
       "    </tr>\n",
       "    <tr>\n",
       "      <th>8759</th>\n",
       "      <td>QSV6764</td>\n",
       "      <td>28</td>\n",
       "      <td>Female</td>\n",
       "      <td>120</td>\n",
       "      <td>157/102</td>\n",
       "      <td>73</td>\n",
       "      <td>1</td>\n",
       "      <td>0</td>\n",
       "      <td>0</td>\n",
       "      <td>1</td>\n",
       "      <td>...</td>\n",
       "      <td>3.833038</td>\n",
       "      <td>217881</td>\n",
       "      <td>23.993866</td>\n",
       "      <td>617</td>\n",
       "      <td>4</td>\n",
       "      <td>9</td>\n",
       "      <td>Canada</td>\n",
       "      <td>North America</td>\n",
       "      <td>Northern Hemisphere</td>\n",
       "      <td>0</td>\n",
       "    </tr>\n",
       "    <tr>\n",
       "      <th>8760</th>\n",
       "      <td>XKA5925</td>\n",
       "      <td>47</td>\n",
       "      <td>Male</td>\n",
       "      <td>250</td>\n",
       "      <td>161/75</td>\n",
       "      <td>105</td>\n",
       "      <td>0</td>\n",
       "      <td>1</td>\n",
       "      <td>1</td>\n",
       "      <td>1</td>\n",
       "      <td>...</td>\n",
       "      <td>2.375214</td>\n",
       "      <td>36998</td>\n",
       "      <td>35.406146</td>\n",
       "      <td>527</td>\n",
       "      <td>4</td>\n",
       "      <td>4</td>\n",
       "      <td>Brazil</td>\n",
       "      <td>South America</td>\n",
       "      <td>Southern Hemisphere</td>\n",
       "      <td>1</td>\n",
       "    </tr>\n",
       "    <tr>\n",
       "      <th>8761</th>\n",
       "      <td>EPE6801</td>\n",
       "      <td>36</td>\n",
       "      <td>Male</td>\n",
       "      <td>178</td>\n",
       "      <td>119/67</td>\n",
       "      <td>60</td>\n",
       "      <td>1</td>\n",
       "      <td>0</td>\n",
       "      <td>1</td>\n",
       "      <td>0</td>\n",
       "      <td>...</td>\n",
       "      <td>0.029104</td>\n",
       "      <td>209943</td>\n",
       "      <td>27.294020</td>\n",
       "      <td>114</td>\n",
       "      <td>2</td>\n",
       "      <td>8</td>\n",
       "      <td>Brazil</td>\n",
       "      <td>South America</td>\n",
       "      <td>Southern Hemisphere</td>\n",
       "      <td>0</td>\n",
       "    </tr>\n",
       "    <tr>\n",
       "      <th>8762</th>\n",
       "      <td>ZWN9666</td>\n",
       "      <td>25</td>\n",
       "      <td>Female</td>\n",
       "      <td>356</td>\n",
       "      <td>138/67</td>\n",
       "      <td>75</td>\n",
       "      <td>1</td>\n",
       "      <td>1</td>\n",
       "      <td>0</td>\n",
       "      <td>0</td>\n",
       "      <td>...</td>\n",
       "      <td>9.005234</td>\n",
       "      <td>247338</td>\n",
       "      <td>32.914151</td>\n",
       "      <td>180</td>\n",
       "      <td>7</td>\n",
       "      <td>4</td>\n",
       "      <td>United Kingdom</td>\n",
       "      <td>Europe</td>\n",
       "      <td>Northern Hemisphere</td>\n",
       "      <td>1</td>\n",
       "    </tr>\n",
       "  </tbody>\n",
       "</table>\n",
       "<p>8763 rows × 26 columns</p>\n",
       "</div>"
      ],
      "text/plain": [
       "     Patient ID  Age     Sex  Cholesterol Blood Pressure  Heart Rate  \\\n",
       "0       BMW7812   67    Male          208         158/88          72   \n",
       "1       CZE1114   21    Male          389         165/93          98   \n",
       "2       BNI9906   21  Female          324         174/99          72   \n",
       "3       JLN3497   84    Male          383        163/100          73   \n",
       "4       GFO8847   66    Male          318          91/88          93   \n",
       "...         ...  ...     ...          ...            ...         ...   \n",
       "8758    MSV9918   60    Male          121          94/76          61   \n",
       "8759    QSV6764   28  Female          120        157/102          73   \n",
       "8760    XKA5925   47    Male          250         161/75         105   \n",
       "8761    EPE6801   36    Male          178         119/67          60   \n",
       "8762    ZWN9666   25  Female          356         138/67          75   \n",
       "\n",
       "      Diabetes  Family History  Smoking  Obesity  ...  \\\n",
       "0            0               0        1        0  ...   \n",
       "1            1               1        1        1  ...   \n",
       "2            1               0        0        0  ...   \n",
       "3            1               1        1        0  ...   \n",
       "4            1               1        1        1  ...   \n",
       "...        ...             ...      ...      ...  ...   \n",
       "8758         1               1        1        0  ...   \n",
       "8759         1               0        0        1  ...   \n",
       "8760         0               1        1        1  ...   \n",
       "8761         1               0        1        0  ...   \n",
       "8762         1               1        0        0  ...   \n",
       "\n",
       "      Sedentary Hours Per Day  Income        BMI  Triglycerides  \\\n",
       "0                    6.615001  261404  31.251233            286   \n",
       "1                    4.963459  285768  27.194973            235   \n",
       "2                    9.463426  235282  28.176571            587   \n",
       "3                    7.648981  125640  36.464704            378   \n",
       "4                    1.514821  160555  21.809144            231   \n",
       "...                       ...     ...        ...            ...   \n",
       "8758                10.806373  235420  19.655895             67   \n",
       "8759                 3.833038  217881  23.993866            617   \n",
       "8760                 2.375214   36998  35.406146            527   \n",
       "8761                 0.029104  209943  27.294020            114   \n",
       "8762                 9.005234  247338  32.914151            180   \n",
       "\n",
       "      Physical Activity Days Per Week  Sleep Hours Per Day         Country  \\\n",
       "0                                   0                    6       Argentina   \n",
       "1                                   1                    7          Canada   \n",
       "2                                   4                    4          France   \n",
       "3                                   3                    4          Canada   \n",
       "4                                   1                    5        Thailand   \n",
       "...                               ...                  ...             ...   \n",
       "8758                                7                    7        Thailand   \n",
       "8759                                4                    9          Canada   \n",
       "8760                                4                    4          Brazil   \n",
       "8761                                2                    8          Brazil   \n",
       "8762                                7                    4  United Kingdom   \n",
       "\n",
       "          Continent           Hemisphere  Heart Attack Risk  \n",
       "0     South America  Southern Hemisphere                  0  \n",
       "1     North America  Northern Hemisphere                  0  \n",
       "2            Europe  Northern Hemisphere                  0  \n",
       "3     North America  Northern Hemisphere                  0  \n",
       "4              Asia  Northern Hemisphere                  0  \n",
       "...             ...                  ...                ...  \n",
       "8758           Asia  Northern Hemisphere                  0  \n",
       "8759  North America  Northern Hemisphere                  0  \n",
       "8760  South America  Southern Hemisphere                  1  \n",
       "8761  South America  Southern Hemisphere                  0  \n",
       "8762         Europe  Northern Hemisphere                  1  \n",
       "\n",
       "[8763 rows x 26 columns]"
      ]
     },
     "execution_count": 3,
     "metadata": {},
     "output_type": "execute_result"
    }
   ],
   "source": [
    "df"
   ]
  },
  {
   "cell_type": "code",
   "execution_count": 4,
   "id": "a29485c7-386c-4881-9ea4-87fef6783da1",
   "metadata": {},
   "outputs": [
    {
     "data": {
      "text/plain": [
       "Patient ID                         0\n",
       "Age                                0\n",
       "Sex                                0\n",
       "Cholesterol                        0\n",
       "Blood Pressure                     0\n",
       "Heart Rate                         0\n",
       "Diabetes                           0\n",
       "Family History                     0\n",
       "Smoking                            0\n",
       "Obesity                            0\n",
       "Alcohol Consumption                0\n",
       "Exercise Hours Per Week            0\n",
       "Diet                               0\n",
       "Previous Heart Problems            0\n",
       "Medication Use                     0\n",
       "Stress Level                       0\n",
       "Sedentary Hours Per Day            0\n",
       "Income                             0\n",
       "BMI                                0\n",
       "Triglycerides                      0\n",
       "Physical Activity Days Per Week    0\n",
       "Sleep Hours Per Day                0\n",
       "Country                            0\n",
       "Continent                          0\n",
       "Hemisphere                         0\n",
       "Heart Attack Risk                  0\n",
       "dtype: int64"
      ]
     },
     "execution_count": 4,
     "metadata": {},
     "output_type": "execute_result"
    }
   ],
   "source": [
    "df.isnull().sum()"
   ]
  },
  {
   "cell_type": "markdown",
   "id": "9a6522a6-442e-40d0-a850-2fa4b4995e65",
   "metadata": {},
   "source": [
    "## Droping the unnecessary columns and Preprocessing"
   ]
  },
  {
   "cell_type": "code",
   "execution_count": 5,
   "id": "c9e31769-65c4-40c5-8e59-88e4bc30a8f1",
   "metadata": {},
   "outputs": [],
   "source": [
    "df = df.drop(['Patient ID'], axis =1)"
   ]
  },
  {
   "cell_type": "code",
   "execution_count": 6,
   "id": "94571c5c-450b-4363-b04e-dd1e3e6c62de",
   "metadata": {},
   "outputs": [
    {
     "data": {
      "text/plain": [
       "Index(['Age', 'Sex', 'Cholesterol', 'Blood Pressure', 'Heart Rate', 'Diabetes',\n",
       "       'Family History', 'Smoking', 'Obesity', 'Alcohol Consumption',\n",
       "       'Exercise Hours Per Week', 'Diet', 'Previous Heart Problems',\n",
       "       'Medication Use', 'Stress Level', 'Sedentary Hours Per Day', 'Income',\n",
       "       'BMI', 'Triglycerides', 'Physical Activity Days Per Week',\n",
       "       'Sleep Hours Per Day', 'Country', 'Continent', 'Hemisphere',\n",
       "       'Heart Attack Risk'],\n",
       "      dtype='object')"
      ]
     },
     "execution_count": 6,
     "metadata": {},
     "output_type": "execute_result"
    }
   ],
   "source": [
    "df.columns"
   ]
  },
  {
   "cell_type": "code",
   "execution_count": 7,
   "id": "0a9e5295-c53d-4af8-b122-734a20f41a0c",
   "metadata": {},
   "outputs": [],
   "source": [
    "# Assuming 'Blood Pressure' is the column containing fraction values\n",
    "df['Blood Pressure'] = df['Blood Pressure'].astype(str)  # Convert to string"
   ]
  },
  {
   "cell_type": "code",
   "execution_count": 8,
   "id": "97358dd4-1b97-499f-bed3-abd3f25016c5",
   "metadata": {},
   "outputs": [],
   "source": [
    "# Split the 'Blood Pressure' column into two separate columns\n",
    "pressure_split = df['Blood Pressure'].str.split('/', expand=True)"
   ]
  },
  {
   "cell_type": "code",
   "execution_count": 9,
   "id": "0fb00177-1059-4baa-96d8-05ff87bc77ab",
   "metadata": {},
   "outputs": [],
   "source": [
    "# Concatenate the new columns with the original dataframe\n",
    "pressure_split.columns = ['systolic_pressure', 'diastolic_pressure']\n",
    "df = pd.concat([df, pressure_split], axis=1)"
   ]
  },
  {
   "cell_type": "code",
   "execution_count": 10,
   "id": "577ac5b7-876d-4a06-aaf8-c06e94356952",
   "metadata": {},
   "outputs": [],
   "source": [
    "# Convert the new columns to numeric format\n",
    "df[['systolic_pressure', 'diastolic_pressure']] = df.iloc[:, -2:].apply(pd.to_numeric, errors='coerce')"
   ]
  },
  {
   "cell_type": "code",
   "execution_count": 11,
   "id": "22cfa9ef-2e56-4e2c-81bf-a7e0fd8d70f2",
   "metadata": {},
   "outputs": [],
   "source": [
    "# Drop multiple columns\n",
    "columns_to_drop = ['Blood Pressure', 'Country', 'Continent']\n",
    "df = df.drop(columns=columns_to_drop, axis=1)"
   ]
  },
  {
   "cell_type": "code",
   "execution_count": 12,
   "id": "b9cacaa2-7015-4cd0-a926-9c3344255312",
   "metadata": {},
   "outputs": [],
   "source": [
    "categories = ['Sex', 'Diet', 'Hemisphere']"
   ]
  },
  {
   "cell_type": "code",
   "execution_count": 13,
   "id": "cc4e9540-4e30-4fd4-a8e2-ebf8c7873581",
   "metadata": {},
   "outputs": [],
   "source": [
    "# Apply label encoding to categorical columns\n",
    "label_encoder = LabelEncoder()\n",
    "for category in categories:\n",
    "    df[category] = label_encoder.fit_transform(df[category])"
   ]
  },
  {
   "cell_type": "code",
   "execution_count": 14,
   "id": "84acb519-703a-4c2b-b4be-5e52055d4444",
   "metadata": {},
   "outputs": [
    {
     "data": {
      "text/html": [
       "<div>\n",
       "<style scoped>\n",
       "    .dataframe tbody tr th:only-of-type {\n",
       "        vertical-align: middle;\n",
       "    }\n",
       "\n",
       "    .dataframe tbody tr th {\n",
       "        vertical-align: top;\n",
       "    }\n",
       "\n",
       "    .dataframe thead th {\n",
       "        text-align: right;\n",
       "    }\n",
       "</style>\n",
       "<table border=\"1\" class=\"dataframe\">\n",
       "  <thead>\n",
       "    <tr style=\"text-align: right;\">\n",
       "      <th></th>\n",
       "      <th>Age</th>\n",
       "      <th>Sex</th>\n",
       "      <th>Cholesterol</th>\n",
       "      <th>Heart Rate</th>\n",
       "      <th>Diabetes</th>\n",
       "      <th>Family History</th>\n",
       "      <th>Smoking</th>\n",
       "      <th>Obesity</th>\n",
       "      <th>Alcohol Consumption</th>\n",
       "      <th>Exercise Hours Per Week</th>\n",
       "      <th>...</th>\n",
       "      <th>Sedentary Hours Per Day</th>\n",
       "      <th>Income</th>\n",
       "      <th>BMI</th>\n",
       "      <th>Triglycerides</th>\n",
       "      <th>Physical Activity Days Per Week</th>\n",
       "      <th>Sleep Hours Per Day</th>\n",
       "      <th>Hemisphere</th>\n",
       "      <th>Heart Attack Risk</th>\n",
       "      <th>systolic_pressure</th>\n",
       "      <th>diastolic_pressure</th>\n",
       "    </tr>\n",
       "  </thead>\n",
       "  <tbody>\n",
       "    <tr>\n",
       "      <th>0</th>\n",
       "      <td>67</td>\n",
       "      <td>1</td>\n",
       "      <td>208</td>\n",
       "      <td>72</td>\n",
       "      <td>0</td>\n",
       "      <td>0</td>\n",
       "      <td>1</td>\n",
       "      <td>0</td>\n",
       "      <td>0</td>\n",
       "      <td>4.168189</td>\n",
       "      <td>...</td>\n",
       "      <td>6.615001</td>\n",
       "      <td>261404</td>\n",
       "      <td>31.251233</td>\n",
       "      <td>286</td>\n",
       "      <td>0</td>\n",
       "      <td>6</td>\n",
       "      <td>1</td>\n",
       "      <td>0</td>\n",
       "      <td>158</td>\n",
       "      <td>88</td>\n",
       "    </tr>\n",
       "    <tr>\n",
       "      <th>1</th>\n",
       "      <td>21</td>\n",
       "      <td>1</td>\n",
       "      <td>389</td>\n",
       "      <td>98</td>\n",
       "      <td>1</td>\n",
       "      <td>1</td>\n",
       "      <td>1</td>\n",
       "      <td>1</td>\n",
       "      <td>1</td>\n",
       "      <td>1.813242</td>\n",
       "      <td>...</td>\n",
       "      <td>4.963459</td>\n",
       "      <td>285768</td>\n",
       "      <td>27.194973</td>\n",
       "      <td>235</td>\n",
       "      <td>1</td>\n",
       "      <td>7</td>\n",
       "      <td>0</td>\n",
       "      <td>0</td>\n",
       "      <td>165</td>\n",
       "      <td>93</td>\n",
       "    </tr>\n",
       "  </tbody>\n",
       "</table>\n",
       "<p>2 rows × 24 columns</p>\n",
       "</div>"
      ],
      "text/plain": [
       "   Age  Sex  Cholesterol  Heart Rate  Diabetes  Family History  Smoking  \\\n",
       "0   67    1          208          72         0               0        1   \n",
       "1   21    1          389          98         1               1        1   \n",
       "\n",
       "   Obesity  Alcohol Consumption  Exercise Hours Per Week  ...  \\\n",
       "0        0                    0                 4.168189  ...   \n",
       "1        1                    1                 1.813242  ...   \n",
       "\n",
       "   Sedentary Hours Per Day  Income        BMI  Triglycerides  \\\n",
       "0                 6.615001  261404  31.251233            286   \n",
       "1                 4.963459  285768  27.194973            235   \n",
       "\n",
       "   Physical Activity Days Per Week  Sleep Hours Per Day  Hemisphere  \\\n",
       "0                                0                    6           1   \n",
       "1                                1                    7           0   \n",
       "\n",
       "   Heart Attack Risk  systolic_pressure  diastolic_pressure  \n",
       "0                  0                158                  88  \n",
       "1                  0                165                  93  \n",
       "\n",
       "[2 rows x 24 columns]"
      ]
     },
     "execution_count": 14,
     "metadata": {},
     "output_type": "execute_result"
    }
   ],
   "source": [
    "df.head(2)"
   ]
  },
  {
   "cell_type": "code",
   "execution_count": 15,
   "id": "8dd32f6b-1123-4044-ba8f-cac44ebe8a34",
   "metadata": {},
   "outputs": [
    {
     "data": {
      "text/plain": [
       "Index(['Age', 'Sex', 'Cholesterol', 'Heart Rate', 'Diabetes', 'Family History',\n",
       "       'Smoking', 'Obesity', 'Alcohol Consumption', 'Exercise Hours Per Week',\n",
       "       'Diet', 'Previous Heart Problems', 'Medication Use', 'Stress Level',\n",
       "       'Sedentary Hours Per Day', 'Income', 'BMI', 'Triglycerides',\n",
       "       'Physical Activity Days Per Week', 'Sleep Hours Per Day', 'Hemisphere',\n",
       "       'Heart Attack Risk', 'systolic_pressure', 'diastolic_pressure'],\n",
       "      dtype='object')"
      ]
     },
     "execution_count": 15,
     "metadata": {},
     "output_type": "execute_result"
    }
   ],
   "source": [
    "df.columns"
   ]
  },
  {
   "cell_type": "code",
   "execution_count": 16,
   "id": "6b1efa41-ffb4-4ea9-9aad-9dd8fa3043a4",
   "metadata": {},
   "outputs": [
    {
     "data": {
      "text/plain": [
       "(8763, 24)"
      ]
     },
     "execution_count": 16,
     "metadata": {},
     "output_type": "execute_result"
    }
   ],
   "source": [
    "df.shape"
   ]
  },
  {
   "cell_type": "code",
   "execution_count": 17,
   "id": "7dc95d93-36ef-4a4e-8520-82d5ff84678c",
   "metadata": {},
   "outputs": [],
   "source": [
    "# Specify the columns to be standardized\n",
    "selected_columns = ['Age', 'Cholesterol', 'Heart Rate', 'Exercise Hours Per Week', 'Income', 'BMI','Triglycerides', 'systolic_pressure', 'diastolic_pressure']\n",
    "\n",
    "# Initialize StandardScaler\n",
    "scaler = StandardScaler()\n",
    "\n",
    "# Fit and transform the selected columns\n",
    "#df[selected_columns] = scaler.fit_transform(df[selected_columns])"
   ]
  },
  {
   "cell_type": "code",
   "execution_count": 18,
   "id": "62f227db-c915-4c6b-86f3-93398eacb492",
   "metadata": {},
   "outputs": [],
   "source": [
    "#X = df.iloc[:, :-1]\n",
    "X = df.iloc[:, list(range(0, 21)) + list(range(22, 24))]\n",
    "y = df.iloc[:, 21]"
   ]
  },
  {
   "cell_type": "code",
   "execution_count": 19,
   "id": "4d30344e-acf2-48ae-a550-04bd770fcf4c",
   "metadata": {},
   "outputs": [
    {
     "data": {
      "text/plain": [
       "0       0\n",
       "1       0\n",
       "2       0\n",
       "3       0\n",
       "4       0\n",
       "       ..\n",
       "8758    0\n",
       "8759    0\n",
       "8760    1\n",
       "8761    0\n",
       "8762    1\n",
       "Name: Heart Attack Risk, Length: 8763, dtype: int64"
      ]
     },
     "execution_count": 19,
     "metadata": {},
     "output_type": "execute_result"
    }
   ],
   "source": [
    "y"
   ]
  },
  {
   "cell_type": "code",
   "execution_count": 20,
   "id": "ae4f540f-fc2a-4683-b4b5-8a3978cf0268",
   "metadata": {},
   "outputs": [],
   "source": [
    "from sklearn.model_selection import train_test_split\n",
    "X_train, X_test, y_train, y_test = train_test_split(X, y, test_size = 0.2, random_state = 0)\n",
    "#X_train, X_test, y_train, y_test = train_test_split(df.drop('Patient ID', axis=1), df['Patient ID'], test_size=0.2, random_state=42)"
   ]
  },
  {
   "cell_type": "code",
   "execution_count": 21,
   "id": "dcf1a4f2-3f48-402c-ae21-353d819955d9",
   "metadata": {},
   "outputs": [],
   "source": [
    "X_train[selected_columns] = scaler.fit_transform(X_train[selected_columns])\n",
    "X_test[selected_columns] = scaler.fit_transform(X_test[selected_columns])"
   ]
  },
  {
   "cell_type": "code",
   "execution_count": 22,
   "id": "07c37956-950b-442a-b3b9-718c2268eb2f",
   "metadata": {},
   "outputs": [],
   "source": [
    "#corr_matrix = X_train.corrwith(y_train, axis=0)\n",
    "corr_matrix = X_train.corr()"
   ]
  },
  {
   "cell_type": "code",
   "execution_count": 23,
   "id": "4cfbcb8f-c47e-4247-90db-a2fb40760c62",
   "metadata": {},
   "outputs": [
    {
     "name": "stdout",
     "output_type": "stream",
     "text": [
      "                                      Age       Sex  Cholesterol  Heart Rate  \\\n",
      "Age                              1.000000  0.014346     0.000529   -0.016336   \n",
      "Sex                              0.014346  1.000000     0.015163   -0.010525   \n",
      "Cholesterol                      0.000529  0.015163     1.000000   -0.002963   \n",
      "Heart Rate                      -0.016336 -0.010525    -0.002963    1.000000   \n",
      "Diabetes                        -0.024148 -0.012469    -0.025931    0.005494   \n",
      "Family History                   0.004047  0.000115    -0.019460   -0.016214   \n",
      "Smoking                          0.387507  0.510212     0.026923   -0.024577   \n",
      "Obesity                         -0.013891 -0.002800    -0.013842    0.018449   \n",
      "Alcohol Consumption             -0.005837  0.009586    -0.010336    0.005361   \n",
      "Exercise Hours Per Week         -0.001411 -0.009356     0.033360    0.002820   \n",
      "Diet                            -0.001133 -0.013989     0.005182   -0.009837   \n",
      "Previous Heart Problems          0.006318  0.006537     0.004944    0.008281   \n",
      "Medication Use                   0.003455 -0.011702     0.006409    0.011600   \n",
      "Stress Level                     0.011446 -0.024874    -0.029392   -0.001186   \n",
      "Sedentary Hours Per Day          0.020971 -0.004655     0.019187   -0.006358   \n",
      "Income                           0.002158  0.004936    -0.005747    0.005263   \n",
      "BMI                              0.000902 -0.005736     0.008063    0.009691   \n",
      "Triglycerides                    0.006723  0.005308    -0.012530    0.010277   \n",
      "Physical Activity Days Per Week -0.007271 -0.005833     0.022931    0.002660   \n",
      "Sleep Hours Per Day             -0.010558 -0.007392     0.003446   -0.005789   \n",
      "Hemisphere                      -0.006947 -0.005686    -0.012521    0.011393   \n",
      "systolic_pressure                0.006460 -0.006322     0.010054    0.017544   \n",
      "diastolic_pressure              -0.003794 -0.003528    -0.004792   -0.019258   \n",
      "\n",
      "                                 Diabetes  Family History   Smoking   Obesity  \\\n",
      "Age                             -0.024148        0.004047  0.387507 -0.013891   \n",
      "Sex                             -0.012469        0.000115  0.510212 -0.002800   \n",
      "Cholesterol                     -0.025931       -0.019460  0.026923 -0.013842   \n",
      "Heart Rate                       0.005494       -0.016214 -0.024577  0.018449   \n",
      "Diabetes                         1.000000       -0.015658 -0.012914  0.013009   \n",
      "Family History                  -0.015658        1.000000  0.011733  0.002984   \n",
      "Smoking                         -0.012914        0.011733  1.000000 -0.004265   \n",
      "Obesity                          0.013009        0.002984 -0.004265  1.000000   \n",
      "Alcohol Consumption             -0.001467        0.015683  0.025458 -0.015410   \n",
      "Exercise Hours Per Week         -0.007093       -0.007072 -0.009168  0.002128   \n",
      "Diet                            -0.010909        0.009425 -0.020755 -0.005059   \n",
      "Previous Heart Problems          0.012738       -0.002811 -0.004269  0.020251   \n",
      "Medication Use                   0.005000       -0.006444 -0.020498 -0.007435   \n",
      "Stress Level                     0.011905        0.012907 -0.007343  0.002623   \n",
      "Sedentary Hours Per Day          0.002771       -0.007821  0.012192 -0.000531   \n",
      "Income                           0.002830        0.002068  0.003205  0.001593   \n",
      "BMI                             -0.005319       -0.005909  0.002792 -0.011011   \n",
      "Triglycerides                    0.010101       -0.005226  0.012524  0.002677   \n",
      "Physical Activity Days Per Week  0.000668        0.001305 -0.008162  0.005604   \n",
      "Sleep Hours Per Day             -0.004708       -0.014023 -0.017411  0.005607   \n",
      "Hemisphere                       0.010205       -0.008826 -0.000628 -0.004669   \n",
      "systolic_pressure               -0.007832       -0.003105 -0.009957  0.007772   \n",
      "diastolic_pressure              -0.009811        0.016017 -0.006762 -0.017487   \n",
      "\n",
      "                                 Alcohol Consumption  Exercise Hours Per Week  \\\n",
      "Age                                        -0.005837                -0.001411   \n",
      "Sex                                         0.009586                -0.009356   \n",
      "Cholesterol                                -0.010336                 0.033360   \n",
      "Heart Rate                                  0.005361                 0.002820   \n",
      "Diabetes                                   -0.001467                -0.007093   \n",
      "Family History                              0.015683                -0.007072   \n",
      "Smoking                                     0.025458                -0.009168   \n",
      "Obesity                                    -0.015410                 0.002128   \n",
      "Alcohol Consumption                         1.000000                -0.007932   \n",
      "Exercise Hours Per Week                    -0.007932                 1.000000   \n",
      "Diet                                        0.008931                 0.004422   \n",
      "Previous Heart Problems                    -0.001450                 0.004181   \n",
      "Medication Use                              0.007055                -0.009841   \n",
      "Stress Level                               -0.008089                -0.006461   \n",
      "Sedentary Hours Per Day                    -0.014105                 0.006619   \n",
      "Income                                     -0.027246                -0.021062   \n",
      "BMI                                         0.010708                 0.016773   \n",
      "Triglycerides                               0.004529                 0.009320   \n",
      "Physical Activity Days Per Week             0.010915                 0.012327   \n",
      "Sleep Hours Per Day                         0.000714                -0.001123   \n",
      "Hemisphere                                 -0.021208                -0.005995   \n",
      "systolic_pressure                           0.010149                -0.009677   \n",
      "diastolic_pressure                         -0.010520                -0.004844   \n",
      "\n",
      "                                 ...  Stress Level  Sedentary Hours Per Day  \\\n",
      "Age                              ...      0.011446                 0.020971   \n",
      "Sex                              ...     -0.024874                -0.004655   \n",
      "Cholesterol                      ...     -0.029392                 0.019187   \n",
      "Heart Rate                       ...     -0.001186                -0.006358   \n",
      "Diabetes                         ...      0.011905                 0.002771   \n",
      "Family History                   ...      0.012907                -0.007821   \n",
      "Smoking                          ...     -0.007343                 0.012192   \n",
      "Obesity                          ...      0.002623                -0.000531   \n",
      "Alcohol Consumption              ...     -0.008089                -0.014105   \n",
      "Exercise Hours Per Week          ...     -0.006461                 0.006619   \n",
      "Diet                             ...     -0.015312                 0.000926   \n",
      "Previous Heart Problems          ...     -0.009265                -0.016424   \n",
      "Medication Use                   ...      0.006661                 0.016861   \n",
      "Stress Level                     ...      1.000000                 0.004513   \n",
      "Sedentary Hours Per Day          ...      0.004513                 1.000000   \n",
      "Income                           ...      0.000974                 0.003346   \n",
      "BMI                              ...      0.003199                -0.001428   \n",
      "Triglycerides                    ...     -0.002094                -0.007251   \n",
      "Physical Activity Days Per Week  ...      0.016852                -0.006662   \n",
      "Sleep Hours Per Day              ...     -0.010869                 0.004820   \n",
      "Hemisphere                       ...     -0.010313                 0.013861   \n",
      "systolic_pressure                ...      0.018396                 0.006405   \n",
      "diastolic_pressure               ...     -0.005422                -0.019083   \n",
      "\n",
      "                                   Income       BMI  Triglycerides  \\\n",
      "Age                              0.002158  0.000902       0.006723   \n",
      "Sex                              0.004936 -0.005736       0.005308   \n",
      "Cholesterol                     -0.005747  0.008063      -0.012530   \n",
      "Heart Rate                       0.005263  0.009691       0.010277   \n",
      "Diabetes                         0.002830 -0.005319       0.010101   \n",
      "Family History                   0.002068 -0.005909      -0.005226   \n",
      "Smoking                          0.003205  0.002792       0.012524   \n",
      "Obesity                          0.001593 -0.011011       0.002677   \n",
      "Alcohol Consumption             -0.027246  0.010708       0.004529   \n",
      "Exercise Hours Per Week         -0.021062  0.016773       0.009320   \n",
      "Diet                             0.002470 -0.005419       0.019293   \n",
      "Previous Heart Problems         -0.005889  0.002700      -0.036888   \n",
      "Medication Use                  -0.006574  0.015108      -0.013167   \n",
      "Stress Level                     0.000974  0.003199      -0.002094   \n",
      "Sedentary Hours Per Day          0.003346 -0.001428      -0.007251   \n",
      "Income                           1.000000  0.004576       0.009184   \n",
      "BMI                              0.004576  1.000000      -0.011048   \n",
      "Triglycerides                    0.009184 -0.011048       1.000000   \n",
      "Physical Activity Days Per Week  0.006798  0.000350      -0.006219   \n",
      "Sleep Hours Per Day             -0.006113 -0.012349      -0.040072   \n",
      "Hemisphere                      -0.002232 -0.004145      -0.010734   \n",
      "systolic_pressure                0.010156  0.003751       0.001975   \n",
      "diastolic_pressure               0.004919  0.007697      -0.003628   \n",
      "\n",
      "                                 Physical Activity Days Per Week  \\\n",
      "Age                                                    -0.007271   \n",
      "Sex                                                    -0.005833   \n",
      "Cholesterol                                             0.022931   \n",
      "Heart Rate                                              0.002660   \n",
      "Diabetes                                                0.000668   \n",
      "Family History                                          0.001305   \n",
      "Smoking                                                -0.008162   \n",
      "Obesity                                                 0.005604   \n",
      "Alcohol Consumption                                     0.010915   \n",
      "Exercise Hours Per Week                                 0.012327   \n",
      "Diet                                                    0.003450   \n",
      "Previous Heart Problems                                 0.006558   \n",
      "Medication Use                                         -0.016255   \n",
      "Stress Level                                            0.016852   \n",
      "Sedentary Hours Per Day                                -0.006662   \n",
      "Income                                                  0.006798   \n",
      "BMI                                                     0.000350   \n",
      "Triglycerides                                          -0.006219   \n",
      "Physical Activity Days Per Week                         1.000000   \n",
      "Sleep Hours Per Day                                     0.014622   \n",
      "Hemisphere                                             -0.016992   \n",
      "systolic_pressure                                      -0.005906   \n",
      "diastolic_pressure                                      0.022381   \n",
      "\n",
      "                                 Sleep Hours Per Day  Hemisphere  \\\n",
      "Age                                        -0.010558   -0.006947   \n",
      "Sex                                        -0.007392   -0.005686   \n",
      "Cholesterol                                 0.003446   -0.012521   \n",
      "Heart Rate                                 -0.005789    0.011393   \n",
      "Diabetes                                   -0.004708    0.010205   \n",
      "Family History                             -0.014023   -0.008826   \n",
      "Smoking                                    -0.017411   -0.000628   \n",
      "Obesity                                     0.005607   -0.004669   \n",
      "Alcohol Consumption                         0.000714   -0.021208   \n",
      "Exercise Hours Per Week                    -0.001123   -0.005995   \n",
      "Diet                                        0.018719    0.010641   \n",
      "Previous Heart Problems                    -0.005393    0.011158   \n",
      "Medication Use                             -0.019903    0.011635   \n",
      "Stress Level                               -0.010869   -0.010313   \n",
      "Sedentary Hours Per Day                     0.004820    0.013861   \n",
      "Income                                     -0.006113   -0.002232   \n",
      "BMI                                        -0.012349   -0.004145   \n",
      "Triglycerides                              -0.040072   -0.010734   \n",
      "Physical Activity Days Per Week             0.014622   -0.016992   \n",
      "Sleep Hours Per Day                         1.000000    0.001249   \n",
      "Hemisphere                                  0.001249    1.000000   \n",
      "systolic_pressure                           0.000479    0.006391   \n",
      "diastolic_pressure                          0.012376    0.004143   \n",
      "\n",
      "                                 systolic_pressure  diastolic_pressure  \n",
      "Age                                       0.006460           -0.003794  \n",
      "Sex                                      -0.006322           -0.003528  \n",
      "Cholesterol                               0.010054           -0.004792  \n",
      "Heart Rate                                0.017544           -0.019258  \n",
      "Diabetes                                 -0.007832           -0.009811  \n",
      "Family History                           -0.003105            0.016017  \n",
      "Smoking                                  -0.009957           -0.006762  \n",
      "Obesity                                   0.007772           -0.017487  \n",
      "Alcohol Consumption                       0.010149           -0.010520  \n",
      "Exercise Hours Per Week                  -0.009677           -0.004844  \n",
      "Diet                                     -0.015007            0.000155  \n",
      "Previous Heart Problems                  -0.010640            0.008920  \n",
      "Medication Use                           -0.004962            0.002948  \n",
      "Stress Level                              0.018396           -0.005422  \n",
      "Sedentary Hours Per Day                   0.006405           -0.019083  \n",
      "Income                                    0.010156            0.004919  \n",
      "BMI                                       0.003751            0.007697  \n",
      "Triglycerides                             0.001975           -0.003628  \n",
      "Physical Activity Days Per Week          -0.005906            0.022381  \n",
      "Sleep Hours Per Day                       0.000479            0.012376  \n",
      "Hemisphere                                0.006391            0.004143  \n",
      "systolic_pressure                         1.000000            0.026524  \n",
      "diastolic_pressure                        0.026524            1.000000  \n",
      "\n",
      "[23 rows x 23 columns]\n"
     ]
    }
   ],
   "source": [
    "print(corr_matrix)"
   ]
  },
  {
   "cell_type": "code",
   "execution_count": 24,
   "id": "c9e33ba1-2e8e-4fcd-8265-f053a9674987",
   "metadata": {},
   "outputs": [
    {
     "name": "stdout",
     "output_type": "stream",
     "text": [
      "2\n"
     ]
    }
   ],
   "source": [
    "# Get the column names of the dataframe\n",
    "columns = corr_matrix.columns\n",
    "\n",
    "#Create an empty list to keep track of the columns to drop\n",
    "columns_to_drop = []\n",
    "\n",
    "# loop over the columns\n",
    "for i in range (len(columns)):\n",
    "    for j in range(i +1, len(columns)):\n",
    "        # Access the cell of the dataframe\n",
    "        if corr_matrix.loc[columns[i], columns[j]] > 0.095:\n",
    "            columns_to_drop.append(columns[j])\n",
    "\n",
    "print(len(columns_to_drop))"
   ]
  },
  {
   "cell_type": "code",
   "execution_count": 25,
   "id": "5da759d5-cf08-4ffa-9420-46c09a9c6046",
   "metadata": {},
   "outputs": [],
   "source": [
    "columns_to_drop = set(columns_to_drop)"
   ]
  },
  {
   "cell_type": "code",
   "execution_count": 26,
   "id": "273924b2-baa3-419f-80c5-c441f442389e",
   "metadata": {},
   "outputs": [
    {
     "data": {
      "text/plain": [
       "{'Smoking'}"
      ]
     },
     "execution_count": 26,
     "metadata": {},
     "output_type": "execute_result"
    }
   ],
   "source": [
    "columns_to_drop"
   ]
  },
  {
   "cell_type": "code",
   "execution_count": 27,
   "id": "7b85e69e-19f5-4618-a23b-7fc7a98884f1",
   "metadata": {},
   "outputs": [
    {
     "data": {
      "text/plain": [
       "(8763, 24)"
      ]
     },
     "execution_count": 27,
     "metadata": {},
     "output_type": "execute_result"
    }
   ],
   "source": [
    "df.shape"
   ]
  },
  {
   "cell_type": "markdown",
   "id": "27bad1da-576f-42fb-bb04-af8e0a12af33",
   "metadata": {},
   "source": [
    "## Model selection"
   ]
  },
  {
   "cell_type": "code",
   "execution_count": 28,
   "id": "050a372d-2ea9-4170-9d39-b02f970d2978",
   "metadata": {},
   "outputs": [],
   "source": [
    "def models(X_train, y_train):\n",
    "    #Logistic regression\n",
    "    from sklearn.linear_model import LogisticRegression\n",
    "    log=LogisticRegression(random_state=0)\n",
    "    log.fit(X_train, y_train)\n",
    "    \n",
    "    #Decision Tree\n",
    "    from sklearn.tree import DecisionTreeClassifier\n",
    "    tree=DecisionTreeClassifier(random_state =0, criterion=\"entropy\")\n",
    "    tree.fit(X_train, y_train)\n",
    "    \n",
    "    #Random Forest\n",
    "    from sklearn.ensemble import RandomForestClassifier\n",
    "    forest = RandomForestClassifier(random_state=0, criterion=\"entropy\", n_estimators =10)\n",
    "    forest.fit(X_train, y_train)\n",
    "\n",
    "    #SVM\n",
    "    from sklearn import svm\n",
    "    clf = svm.SVC()\n",
    "    clf.fit(X_train, y_train)\n",
    "    \n",
    "    print('[0]Logistic regression accuracy: ', log.score(X_train, y_train))\n",
    "    print('[0]Decision Tree: ', tree.score(X_train, y_train))\n",
    "    print('[0]Random Forest accuracy: ', forest.score(X_train, y_train))\n",
    "    print('[0]SVM accuracy: ', clf.score(X_train, y_train))\n",
    "    return log,tree, forest, clf"
   ]
  },
  {
   "cell_type": "code",
   "execution_count": 29,
   "id": "a7720ab0-655d-4dc2-8127-b76fea2b3df4",
   "metadata": {},
   "outputs": [
    {
     "name": "stdout",
     "output_type": "stream",
     "text": [
      "[0]Logistic regression accuracy:  0.6433666191155493\n",
      "[0]Decision Tree:  1.0\n",
      "[0]Random Forest accuracy:  0.9774607703281027\n",
      "[0]SVM accuracy:  0.6433666191155493\n"
     ]
    }
   ],
   "source": [
    "model = models(X_train, y_train)"
   ]
  },
  {
   "cell_type": "code",
   "execution_count": 30,
   "id": "d8338257-1e99-4ad8-b611-f2cb762cab8b",
   "metadata": {},
   "outputs": [],
   "source": [
    "# testing the models/ results\n",
    "\n",
    "from sklearn.metrics import accuracy_score\n",
    "from sklearn.metrics import classification_report"
   ]
  },
  {
   "cell_type": "code",
   "execution_count": 31,
   "id": "708ea6e7-619d-44ab-81cd-bcde68264a30",
   "metadata": {},
   "outputs": [
    {
     "name": "stdout",
     "output_type": "stream",
     "text": [
      "Model :  0\n",
      "              precision    recall  f1-score   support\n",
      "\n",
      "           0       0.64      1.00      0.78      1114\n",
      "           1       0.00      0.00      0.00       639\n",
      "\n",
      "    accuracy                           0.64      1753\n",
      "   macro avg       0.32      0.50      0.39      1753\n",
      "weighted avg       0.40      0.64      0.49      1753\n",
      "\n",
      "Accuracy :  0.6354820308043354\n",
      "Model :  1\n",
      "              precision    recall  f1-score   support\n",
      "\n",
      "           0       0.64      0.64      0.64      1114\n",
      "           1       0.38      0.37      0.37       639\n",
      "\n",
      "    accuracy                           0.55      1753\n",
      "   macro avg       0.51      0.51      0.51      1753\n",
      "weighted avg       0.54      0.55      0.55      1753\n",
      "\n",
      "Accuracy :  0.5453508271534512\n",
      "Model :  2\n",
      "              precision    recall  f1-score   support\n",
      "\n",
      "           0       0.64      0.89      0.75      1114\n",
      "           1       0.42      0.15      0.22       639\n",
      "\n",
      "    accuracy                           0.62      1753\n",
      "   macro avg       0.53      0.52      0.48      1753\n",
      "weighted avg       0.56      0.62      0.55      1753\n",
      "\n",
      "Accuracy :  0.616657159155733\n",
      "Model :  3\n"
     ]
    },
    {
     "name": "stderr",
     "output_type": "stream",
     "text": [
      "C:\\Users\\tirke\\anaconda3\\Lib\\site-packages\\sklearn\\metrics\\_classification.py:1469: UndefinedMetricWarning: Precision and F-score are ill-defined and being set to 0.0 in labels with no predicted samples. Use `zero_division` parameter to control this behavior.\n",
      "  _warn_prf(average, modifier, msg_start, len(result))\n",
      "C:\\Users\\tirke\\anaconda3\\Lib\\site-packages\\sklearn\\metrics\\_classification.py:1469: UndefinedMetricWarning: Precision and F-score are ill-defined and being set to 0.0 in labels with no predicted samples. Use `zero_division` parameter to control this behavior.\n",
      "  _warn_prf(average, modifier, msg_start, len(result))\n",
      "C:\\Users\\tirke\\anaconda3\\Lib\\site-packages\\sklearn\\metrics\\_classification.py:1469: UndefinedMetricWarning: Precision and F-score are ill-defined and being set to 0.0 in labels with no predicted samples. Use `zero_division` parameter to control this behavior.\n",
      "  _warn_prf(average, modifier, msg_start, len(result))\n",
      "C:\\Users\\tirke\\anaconda3\\Lib\\site-packages\\sklearn\\metrics\\_classification.py:1469: UndefinedMetricWarning: Precision and F-score are ill-defined and being set to 0.0 in labels with no predicted samples. Use `zero_division` parameter to control this behavior.\n",
      "  _warn_prf(average, modifier, msg_start, len(result))\n",
      "C:\\Users\\tirke\\anaconda3\\Lib\\site-packages\\sklearn\\metrics\\_classification.py:1469: UndefinedMetricWarning: Precision and F-score are ill-defined and being set to 0.0 in labels with no predicted samples. Use `zero_division` parameter to control this behavior.\n",
      "  _warn_prf(average, modifier, msg_start, len(result))\n",
      "C:\\Users\\tirke\\anaconda3\\Lib\\site-packages\\sklearn\\metrics\\_classification.py:1469: UndefinedMetricWarning: Precision and F-score are ill-defined and being set to 0.0 in labels with no predicted samples. Use `zero_division` parameter to control this behavior.\n",
      "  _warn_prf(average, modifier, msg_start, len(result))\n"
     ]
    },
    {
     "name": "stdout",
     "output_type": "stream",
     "text": [
      "              precision    recall  f1-score   support\n",
      "\n",
      "           0       0.64      1.00      0.78      1114\n",
      "           1       0.00      0.00      0.00       639\n",
      "\n",
      "    accuracy                           0.64      1753\n",
      "   macro avg       0.32      0.50      0.39      1753\n",
      "weighted avg       0.40      0.64      0.49      1753\n",
      "\n",
      "Accuracy :  0.6354820308043354\n"
     ]
    }
   ],
   "source": [
    "for i in range(len(model)):\n",
    "    print(\"Model : \", i)\n",
    "    print(classification_report(y_test, model[i].predict(X_test)))\n",
    "    print('Accuracy : ', accuracy_score(y_test, model[i].predict(X_test)))"
   ]
  },
  {
   "cell_type": "markdown",
   "id": "f88f7513-3c1a-4cb7-a4dd-b5bde9c49f09",
   "metadata": {
    "jp-MarkdownHeadingCollapsed": true
   },
   "source": [
    "## Saving the model for future use "
   ]
  },
  {
   "cell_type": "code",
   "execution_count": 32,
   "id": "6ecee21b-d7bb-43fb-95ea-0cf25c97cbb9",
   "metadata": {},
   "outputs": [],
   "source": [
    "import pickle\n",
    "\n",
    "# Assuming 'model[0]' is the object you want to save\n",
    "with open(\"heart_saved\", 'wb') as file:\n",
    "    pickle.dump(model[0], file)\n"
   ]
  },
  {
   "cell_type": "code",
   "execution_count": 33,
   "id": "86ab797c-b89e-4cd4-9da7-87a4ba877db5",
   "metadata": {},
   "outputs": [
    {
     "data": {
      "text/plain": [
       "array([0, 0, 0, ..., 0, 0, 0], dtype=int64)"
      ]
     },
     "execution_count": 33,
     "metadata": {},
     "output_type": "execute_result"
    }
   ],
   "source": [
    "model_loaded =pickle.load(open('heart_saved', 'rb'))\n",
    "model_loaded.predict(X_test)"
   ]
  },
  {
   "cell_type": "code",
   "execution_count": 34,
   "id": "9533d8c9-ed2b-4497-a3d9-c0278b24647b",
   "metadata": {},
   "outputs": [
    {
     "data": {
      "text/plain": [
       "['Heart_attack_risk_prediction.joblib']"
      ]
     },
     "execution_count": 34,
     "metadata": {},
     "output_type": "execute_result"
    }
   ],
   "source": [
    "import joblib \n",
    "joblib.dump(model[0], \"Heart_attack_risk_prediction.joblib\")"
   ]
  },
  {
   "cell_type": "code",
   "execution_count": 35,
   "id": "e6991a82-b409-464e-929a-90028af16092",
   "metadata": {},
   "outputs": [
    {
     "data": {
      "text/plain": [
       "array([0, 0, 0, ..., 0, 0, 0], dtype=int64)"
      ]
     },
     "execution_count": 35,
     "metadata": {},
     "output_type": "execute_result"
    }
   ],
   "source": [
    "loaded_model2 = joblib.load('Heart_attack_risk_prediction.joblib')\n",
    "loaded_model2.predict(X_test)"
   ]
  },
  {
   "cell_type": "markdown",
   "id": "af3ec82a-44ca-4016-a43f-3f5ae5e958f0",
   "metadata": {},
   "source": [
    "## Fine Tuning logistic model"
   ]
  },
  {
   "cell_type": "code",
   "execution_count": 36,
   "id": "70f157d2-4fd0-4f2b-8cc5-369129addd64",
   "metadata": {},
   "outputs": [],
   "source": [
    "from sklearn.linear_model import LogisticRegression\n",
    "logmodel = LogisticRegression()"
   ]
  },
  {
   "cell_type": "code",
   "execution_count": 37,
   "id": "325f9d2a-230d-47ce-9bc9-95153a3b3296",
   "metadata": {},
   "outputs": [],
   "source": [
    "param_grid = {\n",
    "    'penalty': ['l1', 'l2', 'elasticnet', 'none'],\n",
    "    'C': [0.001, 0.01, 0.1, 1, 10, 100],\n",
    "    'solver': ['newton-cg', 'lbfgs', 'liblinear', 'sag', 'saga'],\n",
    "    'max_iter': [50, 100, 200],\n",
    "    'l1_ratio': [0.1, 0.3, 0.5, 0.7, 0.9],  # Add l1_ratio only for elasticnet\n",
    "    'random_state': [42]\n",
    "}\n"
   ]
  },
  {
   "cell_type": "code",
   "execution_count": 38,
   "id": "7f1cf668-d0c9-4f47-8c46-f1a745db57f5",
   "metadata": {},
   "outputs": [],
   "source": [
    "# import the grid search method \n",
    "from sklearn.model_selection import GridSearchCV"
   ]
  },
  {
   "cell_type": "code",
   "execution_count": 39,
   "id": "713d7025-5165-4546-85df-9d796f9139f8",
   "metadata": {},
   "outputs": [],
   "source": [
    "grid_search = GridSearchCV(logmodel, param_grid, cv=5, scoring='accuracy', verbose=1, n_jobs=-1)"
   ]
  },
  {
   "cell_type": "code",
   "execution_count": 40,
   "id": "52114151-4fe8-40d5-b178-fdf7e916396b",
   "metadata": {},
   "outputs": [
    {
     "name": "stdout",
     "output_type": "stream",
     "text": [
      "Fitting 5 folds for each of 1800 candidates, totalling 9000 fits\n"
     ]
    },
    {
     "name": "stderr",
     "output_type": "stream",
     "text": [
      "C:\\Users\\tirke\\anaconda3\\Lib\\site-packages\\sklearn\\model_selection\\_validation.py:425: FitFailedWarning: \n",
      "3600 fits failed out of a total of 9000.\n",
      "The score on these train-test partitions for these parameters will be set to nan.\n",
      "If these failures are not expected, you can try to debug them by setting error_score='raise'.\n",
      "\n",
      "Below are more details about the failures:\n",
      "--------------------------------------------------------------------------------\n",
      "450 fits failed with the following error:\n",
      "Traceback (most recent call last):\n",
      "  File \"C:\\Users\\tirke\\anaconda3\\Lib\\site-packages\\sklearn\\model_selection\\_validation.py\", line 732, in _fit_and_score\n",
      "    estimator.fit(X_train, y_train, **fit_params)\n",
      "  File \"C:\\Users\\tirke\\anaconda3\\Lib\\site-packages\\sklearn\\base.py\", line 1151, in wrapper\n",
      "    return fit_method(estimator, *args, **kwargs)\n",
      "           ^^^^^^^^^^^^^^^^^^^^^^^^^^^^^^^^^^^^^^\n",
      "  File \"C:\\Users\\tirke\\anaconda3\\Lib\\site-packages\\sklearn\\linear_model\\_logistic.py\", line 1168, in fit\n",
      "    solver = _check_solver(self.solver, self.penalty, self.dual)\n",
      "             ^^^^^^^^^^^^^^^^^^^^^^^^^^^^^^^^^^^^^^^^^^^^^^^^^^^\n",
      "  File \"C:\\Users\\tirke\\anaconda3\\Lib\\site-packages\\sklearn\\linear_model\\_logistic.py\", line 56, in _check_solver\n",
      "    raise ValueError(\n",
      "ValueError: Solver newton-cg supports only 'l2' or 'none' penalties, got l1 penalty.\n",
      "\n",
      "--------------------------------------------------------------------------------\n",
      "450 fits failed with the following error:\n",
      "Traceback (most recent call last):\n",
      "  File \"C:\\Users\\tirke\\anaconda3\\Lib\\site-packages\\sklearn\\model_selection\\_validation.py\", line 732, in _fit_and_score\n",
      "    estimator.fit(X_train, y_train, **fit_params)\n",
      "  File \"C:\\Users\\tirke\\anaconda3\\Lib\\site-packages\\sklearn\\base.py\", line 1151, in wrapper\n",
      "    return fit_method(estimator, *args, **kwargs)\n",
      "           ^^^^^^^^^^^^^^^^^^^^^^^^^^^^^^^^^^^^^^\n",
      "  File \"C:\\Users\\tirke\\anaconda3\\Lib\\site-packages\\sklearn\\linear_model\\_logistic.py\", line 1168, in fit\n",
      "    solver = _check_solver(self.solver, self.penalty, self.dual)\n",
      "             ^^^^^^^^^^^^^^^^^^^^^^^^^^^^^^^^^^^^^^^^^^^^^^^^^^^\n",
      "  File \"C:\\Users\\tirke\\anaconda3\\Lib\\site-packages\\sklearn\\linear_model\\_logistic.py\", line 56, in _check_solver\n",
      "    raise ValueError(\n",
      "ValueError: Solver lbfgs supports only 'l2' or 'none' penalties, got l1 penalty.\n",
      "\n",
      "--------------------------------------------------------------------------------\n",
      "450 fits failed with the following error:\n",
      "Traceback (most recent call last):\n",
      "  File \"C:\\Users\\tirke\\anaconda3\\Lib\\site-packages\\sklearn\\model_selection\\_validation.py\", line 732, in _fit_and_score\n",
      "    estimator.fit(X_train, y_train, **fit_params)\n",
      "  File \"C:\\Users\\tirke\\anaconda3\\Lib\\site-packages\\sklearn\\base.py\", line 1151, in wrapper\n",
      "    return fit_method(estimator, *args, **kwargs)\n",
      "           ^^^^^^^^^^^^^^^^^^^^^^^^^^^^^^^^^^^^^^\n",
      "  File \"C:\\Users\\tirke\\anaconda3\\Lib\\site-packages\\sklearn\\linear_model\\_logistic.py\", line 1168, in fit\n",
      "    solver = _check_solver(self.solver, self.penalty, self.dual)\n",
      "             ^^^^^^^^^^^^^^^^^^^^^^^^^^^^^^^^^^^^^^^^^^^^^^^^^^^\n",
      "  File \"C:\\Users\\tirke\\anaconda3\\Lib\\site-packages\\sklearn\\linear_model\\_logistic.py\", line 56, in _check_solver\n",
      "    raise ValueError(\n",
      "ValueError: Solver sag supports only 'l2' or 'none' penalties, got l1 penalty.\n",
      "\n",
      "--------------------------------------------------------------------------------\n",
      "450 fits failed with the following error:\n",
      "Traceback (most recent call last):\n",
      "  File \"C:\\Users\\tirke\\anaconda3\\Lib\\site-packages\\sklearn\\model_selection\\_validation.py\", line 732, in _fit_and_score\n",
      "    estimator.fit(X_train, y_train, **fit_params)\n",
      "  File \"C:\\Users\\tirke\\anaconda3\\Lib\\site-packages\\sklearn\\base.py\", line 1151, in wrapper\n",
      "    return fit_method(estimator, *args, **kwargs)\n",
      "           ^^^^^^^^^^^^^^^^^^^^^^^^^^^^^^^^^^^^^^\n",
      "  File \"C:\\Users\\tirke\\anaconda3\\Lib\\site-packages\\sklearn\\linear_model\\_logistic.py\", line 1168, in fit\n",
      "    solver = _check_solver(self.solver, self.penalty, self.dual)\n",
      "             ^^^^^^^^^^^^^^^^^^^^^^^^^^^^^^^^^^^^^^^^^^^^^^^^^^^\n",
      "  File \"C:\\Users\\tirke\\anaconda3\\Lib\\site-packages\\sklearn\\linear_model\\_logistic.py\", line 56, in _check_solver\n",
      "    raise ValueError(\n",
      "ValueError: Solver newton-cg supports only 'l2' or 'none' penalties, got elasticnet penalty.\n",
      "\n",
      "--------------------------------------------------------------------------------\n",
      "450 fits failed with the following error:\n",
      "Traceback (most recent call last):\n",
      "  File \"C:\\Users\\tirke\\anaconda3\\Lib\\site-packages\\sklearn\\model_selection\\_validation.py\", line 732, in _fit_and_score\n",
      "    estimator.fit(X_train, y_train, **fit_params)\n",
      "  File \"C:\\Users\\tirke\\anaconda3\\Lib\\site-packages\\sklearn\\base.py\", line 1151, in wrapper\n",
      "    return fit_method(estimator, *args, **kwargs)\n",
      "           ^^^^^^^^^^^^^^^^^^^^^^^^^^^^^^^^^^^^^^\n",
      "  File \"C:\\Users\\tirke\\anaconda3\\Lib\\site-packages\\sklearn\\linear_model\\_logistic.py\", line 1168, in fit\n",
      "    solver = _check_solver(self.solver, self.penalty, self.dual)\n",
      "             ^^^^^^^^^^^^^^^^^^^^^^^^^^^^^^^^^^^^^^^^^^^^^^^^^^^\n",
      "  File \"C:\\Users\\tirke\\anaconda3\\Lib\\site-packages\\sklearn\\linear_model\\_logistic.py\", line 56, in _check_solver\n",
      "    raise ValueError(\n",
      "ValueError: Solver lbfgs supports only 'l2' or 'none' penalties, got elasticnet penalty.\n",
      "\n",
      "--------------------------------------------------------------------------------\n",
      "450 fits failed with the following error:\n",
      "Traceback (most recent call last):\n",
      "  File \"C:\\Users\\tirke\\anaconda3\\Lib\\site-packages\\sklearn\\model_selection\\_validation.py\", line 732, in _fit_and_score\n",
      "    estimator.fit(X_train, y_train, **fit_params)\n",
      "  File \"C:\\Users\\tirke\\anaconda3\\Lib\\site-packages\\sklearn\\base.py\", line 1151, in wrapper\n",
      "    return fit_method(estimator, *args, **kwargs)\n",
      "           ^^^^^^^^^^^^^^^^^^^^^^^^^^^^^^^^^^^^^^\n",
      "  File \"C:\\Users\\tirke\\anaconda3\\Lib\\site-packages\\sklearn\\linear_model\\_logistic.py\", line 1168, in fit\n",
      "    solver = _check_solver(self.solver, self.penalty, self.dual)\n",
      "             ^^^^^^^^^^^^^^^^^^^^^^^^^^^^^^^^^^^^^^^^^^^^^^^^^^^\n",
      "  File \"C:\\Users\\tirke\\anaconda3\\Lib\\site-packages\\sklearn\\linear_model\\_logistic.py\", line 66, in _check_solver\n",
      "    raise ValueError(\n",
      "ValueError: Only 'saga' solver supports elasticnet penalty, got solver=liblinear.\n",
      "\n",
      "--------------------------------------------------------------------------------\n",
      "450 fits failed with the following error:\n",
      "Traceback (most recent call last):\n",
      "  File \"C:\\Users\\tirke\\anaconda3\\Lib\\site-packages\\sklearn\\model_selection\\_validation.py\", line 732, in _fit_and_score\n",
      "    estimator.fit(X_train, y_train, **fit_params)\n",
      "  File \"C:\\Users\\tirke\\anaconda3\\Lib\\site-packages\\sklearn\\base.py\", line 1151, in wrapper\n",
      "    return fit_method(estimator, *args, **kwargs)\n",
      "           ^^^^^^^^^^^^^^^^^^^^^^^^^^^^^^^^^^^^^^\n",
      "  File \"C:\\Users\\tirke\\anaconda3\\Lib\\site-packages\\sklearn\\linear_model\\_logistic.py\", line 1168, in fit\n",
      "    solver = _check_solver(self.solver, self.penalty, self.dual)\n",
      "             ^^^^^^^^^^^^^^^^^^^^^^^^^^^^^^^^^^^^^^^^^^^^^^^^^^^\n",
      "  File \"C:\\Users\\tirke\\anaconda3\\Lib\\site-packages\\sklearn\\linear_model\\_logistic.py\", line 56, in _check_solver\n",
      "    raise ValueError(\n",
      "ValueError: Solver sag supports only 'l2' or 'none' penalties, got elasticnet penalty.\n",
      "\n",
      "--------------------------------------------------------------------------------\n",
      "450 fits failed with the following error:\n",
      "Traceback (most recent call last):\n",
      "  File \"C:\\Users\\tirke\\anaconda3\\Lib\\site-packages\\sklearn\\model_selection\\_validation.py\", line 732, in _fit_and_score\n",
      "    estimator.fit(X_train, y_train, **fit_params)\n",
      "  File \"C:\\Users\\tirke\\anaconda3\\Lib\\site-packages\\sklearn\\base.py\", line 1151, in wrapper\n",
      "    return fit_method(estimator, *args, **kwargs)\n",
      "           ^^^^^^^^^^^^^^^^^^^^^^^^^^^^^^^^^^^^^^\n",
      "  File \"C:\\Users\\tirke\\anaconda3\\Lib\\site-packages\\sklearn\\linear_model\\_logistic.py\", line 1168, in fit\n",
      "    solver = _check_solver(self.solver, self.penalty, self.dual)\n",
      "             ^^^^^^^^^^^^^^^^^^^^^^^^^^^^^^^^^^^^^^^^^^^^^^^^^^^\n",
      "  File \"C:\\Users\\tirke\\anaconda3\\Lib\\site-packages\\sklearn\\linear_model\\_logistic.py\", line 73, in _check_solver\n",
      "    raise ValueError(\"penalty='none' is not supported for the liblinear solver\")\n",
      "ValueError: penalty='none' is not supported for the liblinear solver\n",
      "\n",
      "  warnings.warn(some_fits_failed_message, FitFailedWarning)\n",
      "C:\\Users\\tirke\\anaconda3\\Lib\\site-packages\\sklearn\\model_selection\\_search.py:976: UserWarning: One or more of the test scores are non-finite: [       nan        nan 0.64336662 ...        nan 0.64336662 0.64336662]\n",
      "  warnings.warn(\n",
      "C:\\Users\\tirke\\anaconda3\\Lib\\site-packages\\sklearn\\linear_model\\_logistic.py:1171: UserWarning: l1_ratio parameter is only used when penalty is 'elasticnet'. Got (penalty=l1)\n",
      "  warnings.warn(\n"
     ]
    }
   ],
   "source": [
    "bet_model = grid_search.fit(X_train, y_train)"
   ]
  },
  {
   "cell_type": "code",
   "execution_count": 41,
   "id": "6d65fff4-4d1a-49f0-86be-32d71c3f15ee",
   "metadata": {},
   "outputs": [
    {
     "name": "stdout",
     "output_type": "stream",
     "text": [
      "Best Parameters: {'C': 0.001, 'l1_ratio': 0.1, 'max_iter': 50, 'penalty': 'l1', 'random_state': 42, 'solver': 'liblinear'}\n"
     ]
    }
   ],
   "source": [
    "best_params = grid_search.best_params_\n",
    "print(\"Best Parameters:\", best_params)"
   ]
  },
  {
   "cell_type": "code",
   "execution_count": 42,
   "id": "90f4b89a-f41b-446f-b8a1-65b8330c76ac",
   "metadata": {},
   "outputs": [],
   "source": [
    "best_model = grid_search.best_estimator_\n",
    "y_pred = best_model.predict(X_test)"
   ]
  },
  {
   "cell_type": "code",
   "execution_count": 43,
   "id": "832fd1fb-2624-4631-b672-3d755307f1a6",
   "metadata": {},
   "outputs": [
    {
     "name": "stdout",
     "output_type": "stream",
     "text": [
      "              precision    recall  f1-score   support\n",
      "\n",
      "           0       0.64      1.00      0.78      1114\n",
      "           1       0.00      0.00      0.00       639\n",
      "\n",
      "    accuracy                           0.64      1753\n",
      "   macro avg       0.32      0.50      0.39      1753\n",
      "weighted avg       0.40      0.64      0.49      1753\n",
      "\n",
      "Accuracy :  0.6354820308043354\n"
     ]
    },
    {
     "name": "stderr",
     "output_type": "stream",
     "text": [
      "C:\\Users\\tirke\\anaconda3\\Lib\\site-packages\\sklearn\\metrics\\_classification.py:1469: UndefinedMetricWarning: Precision and F-score are ill-defined and being set to 0.0 in labels with no predicted samples. Use `zero_division` parameter to control this behavior.\n",
      "  _warn_prf(average, modifier, msg_start, len(result))\n",
      "C:\\Users\\tirke\\anaconda3\\Lib\\site-packages\\sklearn\\metrics\\_classification.py:1469: UndefinedMetricWarning: Precision and F-score are ill-defined and being set to 0.0 in labels with no predicted samples. Use `zero_division` parameter to control this behavior.\n",
      "  _warn_prf(average, modifier, msg_start, len(result))\n",
      "C:\\Users\\tirke\\anaconda3\\Lib\\site-packages\\sklearn\\metrics\\_classification.py:1469: UndefinedMetricWarning: Precision and F-score are ill-defined and being set to 0.0 in labels with no predicted samples. Use `zero_division` parameter to control this behavior.\n",
      "  _warn_prf(average, modifier, msg_start, len(result))\n"
     ]
    }
   ],
   "source": [
    " print(classification_report(y_test, best_model.predict(X_test)))\n",
    "print('Accuracy : ', accuracy_score(y_test, best_model.predict(X_test)))"
   ]
  },
  {
   "cell_type": "markdown",
   "id": "d8c07adc-f8f3-4243-b0af-fd9fe11fd26e",
   "metadata": {},
   "source": [
    "## Fine Tune SVM"
   ]
  },
  {
   "cell_type": "code",
   "execution_count": 44,
   "id": "f3808567-1382-43e8-83fa-2f4e115355c6",
   "metadata": {},
   "outputs": [],
   "source": [
    "from sklearn.svm import SVC\n",
    "svm_model = SVC()\n",
    "\n",
    "# Set up a parameter grid to search through\n",
    "param_grid_svm = {\n",
    "    'C': [0.1, 1, 10, 100],\n",
    "    'kernel': ['linear', 'rbf', 'poly'],\n",
    "    'gamma': [0.1, 1, 'scale', 'auto'],\n",
    "}"
   ]
  },
  {
   "cell_type": "code",
   "execution_count": null,
   "id": "f44d77f9-46fe-42cb-8e56-5990d3060e9a",
   "metadata": {},
   "outputs": [],
   "source": [
    "# Create a grid search object\n",
    "grid_search_svm = GridSearchCV(svm_model, param_grid_svm, cv=5)\n",
    "\n",
    "# Fit the grid search to the data\n",
    "grid_search_svm.fit(X_train, y_train)\n",
    "\n",
    "# Get the best parameters and best model\n",
    "best_params = grid_search_svm.best_params_\n",
    "best_svm_model = grid_search_svm.best_estimator_\n",
    "\n",
    "# Print the best parameters\n",
    "print(\"Best Parameters:\", best_params)\n",
    "\n",
    "# Evaluate the model on the test set\n",
    "y_pred = best_svm_model.predict(X_test)\n",
    "\n",
    "# Calculate and print accuracy\n",
    "accuracy = accuracy_score(y_test, y_pred)\n",
    "print(\"Accuracy:\", accuracy)"
   ]
  },
  {
   "cell_type": "code",
   "execution_count": null,
   "id": "70869519-c637-4f2c-bf0d-d87460aac174",
   "metadata": {},
   "outputs": [],
   "source": [
    "best_params_svm = grid_search_svm.best_params_\n",
    "print(\"Best Parameters:\", best_params)"
   ]
  },
  {
   "cell_type": "code",
   "execution_count": null,
   "id": "f98811c6-d8db-4a99-931f-16c65ecf7d1b",
   "metadata": {},
   "outputs": [],
   "source": [
    "best_model_svm = grid_search_svm.best_estimator_\n",
    "y_pred = best_model_svm.predict(X_test)"
   ]
  },
  {
   "cell_type": "code",
   "execution_count": null,
   "id": "d1bebeaa-c8d8-451e-a17a-eea2d0adce41",
   "metadata": {},
   "outputs": [],
   "source": [
    " print(classification_report(y_test, best_model_svm.predict(X_test)))\n",
    "print('Accuracy : ', accuracy_score(y_test, best_model_svm.predict(X_test)))"
   ]
  }
 ],
 "metadata": {
  "kernelspec": {
   "display_name": "Python 3 (ipykernel)",
   "language": "python",
   "name": "python3"
  },
  "language_info": {
   "codemirror_mode": {
    "name": "ipython",
    "version": 3
   },
   "file_extension": ".py",
   "mimetype": "text/x-python",
   "name": "python",
   "nbconvert_exporter": "python",
   "pygments_lexer": "ipython3",
   "version": "3.11.5"
  }
 },
 "nbformat": 4,
 "nbformat_minor": 5
}
